{
 "cells": [
  {
   "cell_type": "code",
   "execution_count": 1,
   "id": "034aade1-a6d1-4416-a832-0533075be2fe",
   "metadata": {},
   "outputs": [],
   "source": [
    "def main():\n",
    "    # Print a wake-up message twice\n",
    "    print(\"wake up !!\")\n",
    "    print(\"wake up !!\")\n",
    "    # Print a  wake-up message for Thomas\n",
    "    print(\"It is time to wake up, Thomas !!!\")"
   ]
  },
  {
   "cell_type": "code",
   "execution_count": 2,
   "id": "b6621058-8033-461f-a465-242dc6d301b3",
   "metadata": {},
   "outputs": [
    {
     "name": "stdout",
     "output_type": "stream",
     "text": [
      "wake up !!\n",
      "wake up !!\n",
      "It is time to wake up, Thomas !!!\n"
     ]
    }
   ],
   "source": [
    "main() # Call the main function to execute the code"
   ]
  },
  {
   "cell_type": "code",
   "execution_count": 3,
   "id": "0ed6ff91-289d-49d3-8ecf-eb3e70d15add",
   "metadata": {},
   "outputs": [],
   "source": [
    "def alarm():\n",
    "    # Print a wake-up message\n",
    "    print(\"wake up !!\")"
   ]
  },
  {
   "cell_type": "code",
   "execution_count": 4,
   "id": "bd10a25c-9b67-4f8e-b993-b1d2099f077f",
   "metadata": {},
   "outputs": [
    {
     "name": "stdout",
     "output_type": "stream",
     "text": [
      "wake up !!\n"
     ]
    }
   ],
   "source": [
    "alarm() # Call the alarm function to execute the code"
   ]
  },
  {
   "cell_type": "code",
   "execution_count": 5,
   "id": "4ca02fd1-92e4-4f26-802a-322f6efd5a84",
   "metadata": {},
   "outputs": [],
   "source": [
    "def wakeupthomas():\n",
    "    # Call the alarm function twice to wake up\n",
    "    alarm()\n",
    "    alarm()\n",
    "    # Print a  message to  wake-up Thomas\n",
    "    print(\"It is time to wake up, Thomas !!!\")\n",
    "    # Call the alarm function again to make sure Thomas wakes up\n",
    "    alarm()  "
   ]
  },
  {
   "cell_type": "code",
   "execution_count": 6,
   "id": "964c4b27-7365-4794-b54a-a0058137217d",
   "metadata": {},
   "outputs": [
    {
     "name": "stdout",
     "output_type": "stream",
     "text": [
      "wake up !!\n",
      "wake up !!\n",
      "It is time to wake up, Thomas !!!\n",
      "wake up !!\n"
     ]
    }
   ],
   "source": [
    "wakeupthomas() # Call the wakeupthomas function to execute the code"
   ]
  },
  {
   "cell_type": "code",
   "execution_count": 7,
   "id": "8ce00645-812d-4130-a930-0a684090ad41",
   "metadata": {},
   "outputs": [],
   "source": [
    "def wakeupchichi():\n",
    "    # Call the alarm function twice to wake up\n",
    "    alarm()\n",
    "    alarm()\n",
    "    #Print a message to wake-up Chichi\n",
    "    print(\"It is time to wake up, Chichi !!!\")\n",
    "    # Call the alarm function again to make sure Chichi wakes up\n",
    "    alarm()\n"
   ]
  },
  {
   "cell_type": "code",
   "execution_count": 8,
   "id": "0f8b18df-e3ef-44eb-9ac0-8f3e17ee02eb",
   "metadata": {},
   "outputs": [
    {
     "name": "stdout",
     "output_type": "stream",
     "text": [
      "wake up !!\n",
      "wake up !!\n",
      "It is time to wake up, Chichi !!!\n",
      "wake up !!\n"
     ]
    }
   ],
   "source": [
    "wakeupchichi()  # Call the wakeupchichi function to carry out the code"
   ]
  },
  {
   "cell_type": "code",
   "execution_count": 9,
   "id": "0dcde43a-2c74-4798-a991-fe86add2fd42",
   "metadata": {},
   "outputs": [],
   "source": [
    "def wakeuplimpo():\n",
    "    # Call the alarm function twice to wake up\n",
    "    alarm()\n",
    "    alarm()\n",
    "    # Print a message to wake-up Limpo\n",
    "    print(\"It is time to wake up, Limpo !!!\")\n",
    "    # Call the alarm function again to make sure Limpo wakes up\n",
    "    alarm()\n"
   ]
  },
  {
   "cell_type": "code",
   "execution_count": 10,
   "id": "f0abac6e-5f72-47be-93bc-90e03bb372bd",
   "metadata": {},
   "outputs": [
    {
     "name": "stdout",
     "output_type": "stream",
     "text": [
      "wake up !!\n",
      "wake up !!\n",
      "It is time to wake up, Limpo !!!\n",
      "wake up !!\n"
     ]
    }
   ],
   "source": [
    "wakeuplimpo()  # Call the wakeuplimpo function to carry out the code"
   ]
  },
  {
   "cell_type": "code",
   "execution_count": 11,
   "id": "aef0cebe-2e80-45aa-b502-d698ebb1f45c",
   "metadata": {},
   "outputs": [],
   "source": [
    "def wakeupperson(person):\n",
    "    # Call the alarm function twice to wake up\n",
    "    alarm()\n",
    "    alarm()\n",
    "    \n",
    "    # Print a personalized wake-up message for the specified person\n",
    "    print(\"It is time to wake up\", person)\n",
    "    \n",
    "    # Call the alarm function again to ensure the person wakes up\n",
    "    alarm()"
   ]
  },
  {
   "cell_type": "code",
   "execution_count": 12,
   "id": "d3cf0b1d-39f0-4b62-96c9-9f97377dcdc7",
   "metadata": {},
   "outputs": [
    {
     "name": "stdout",
     "output_type": "stream",
     "text": [
      "wake up !!\n",
      "wake up !!\n",
      "It is time to wake up Thomas\n",
      "wake up !!\n"
     ]
    }
   ],
   "source": [
    "wakeupperson(\"Thomas\") # Call the wakeupperson function to carry out the code"
   ]
  },
  {
   "cell_type": "code",
   "execution_count": 13,
   "id": "c75a0058-cc17-4611-9606-15b448915bd8",
   "metadata": {},
   "outputs": [],
   "source": [
    "def main():\n",
    "    # Wake up Thomas\n",
    "    wakeupperson(\"Thomas\")\n",
    "    print()\n",
    "    \n",
    "    # Wake up Chichi\n",
    "    wakeupperson(\"Chichi\")\n",
    "    print()\n",
    "    \n",
    "    # Wake up Limpo\n",
    "    wakeupperson(\"Limpo\")    "
   ]
  },
  {
   "cell_type": "code",
   "execution_count": 14,
   "id": "12df33f9-8a24-47ce-9180-e6db878ae10c",
   "metadata": {},
   "outputs": [
    {
     "name": "stdout",
     "output_type": "stream",
     "text": [
      "wake up !!\n",
      "wake up !!\n",
      "It is time to wake up Thomas\n",
      "wake up !!\n",
      "\n",
      "wake up !!\n",
      "wake up !!\n",
      "It is time to wake up Chichi\n",
      "wake up !!\n",
      "\n",
      "wake up !!\n",
      "wake up !!\n",
      "It is time to wake up Limpo\n",
      "wake up !!\n"
     ]
    }
   ],
   "source": [
    "main()  # Call the main function to carry out the code"
   ]
  },
  {
   "cell_type": "markdown",
   "id": "0773075f-1624-488e-aaf9-4c2bf2d023fc",
   "metadata": {},
   "source": [
    "##### Functions That Return Values"
   ]
  },
  {
   "cell_type": "markdown",
   "id": "09afec30-1210-469e-9ae9-58e8360cd78c",
   "metadata": {},
   "source": [
    "Parameters act as inputs to a function.In fact, the basic ideas and vocabulary of functions are borrowed from mathematics\n",
    "where a function is considered to be a relation between input variables and output variables."
   ]
  },
  {
   "cell_type": "markdown",
   "id": "d9973fdf-b102-46fb-be67-23b3116f9860",
   "metadata": {},
   "source": [
    "Graph of f(x) = x^2 "
   ]
  },
  {
   "cell_type": "code",
   "execution_count": 15,
   "id": "1da9dfc6-fefe-43c4-9015-f489dc3f1409",
   "metadata": {},
   "outputs": [
    {
     "data": {
      "image/jpeg": "[encoded data removed]",
      "text/plain": [
       "<IPython.core.display.Image object>"
      ]
     },
     "execution_count": 15,
     "metadata": {},
     "output_type": "execute_result"
    }
   ],
   "source": [
    "from IPython.display import Image\n",
    "\n",
    "# Replace 'image.jpg' with the name of your image file\n",
    "Image(filename='x2 graph.jpg')"
   ]
  },
  {
   "cell_type": "markdown",
   "id": "0917add2-39a5-4ac1-9be1-ffd7d6e9dcca",
   "metadata": {},
   "source": [
    "for example, f(5) = 25 says that when f is applied to 5 the result is 25"
   ]
  },
  {
   "cell_type": "markdown",
   "id": "b2f3170f-028c-478e-8cfe-9a014abe5ffc",
   "metadata": {},
   "source": [
    "In Python"
   ]
  },
  {
   "cell_type": "code",
   "execution_count": 18,
   "id": "2f70cb4d-ada8-4c77-a209-06721997c143",
   "metadata": {},
   "outputs": [],
   "source": [
    "def square(x):\n",
    "    return x ** 2"
   ]
  },
  {
   "cell_type": "code",
   "execution_count": 19,
   "id": "6ebcc593-f9cb-452a-8283-f22e022ff81a",
   "metadata": {},
   "outputs": [
    {
     "data": {
      "text/plain": [
       "25"
      ]
     },
     "execution_count": 19,
     "metadata": {},
     "output_type": "execute_result"
    }
   ],
   "source": [
    "square(5)"
   ]
  },
  {
   "cell_type": "code",
   "execution_count": null,
   "id": "28e057dc-3751-4dcd-8cfd-08b9b14d3868",
   "metadata": {},
   "outputs": [],
   "source": []
  },
  {
   "cell_type": "markdown",
   "id": "2c1e3988-6624-4beb-9d7b-36429c4a1d39",
   "metadata": {},
   "source": [
    "Functions that Modify Parameters"
   ]
  },
  {
   "cell_type": "markdown",
   "id": "1cb3a05d-b55c-43b4-9380-28dcb3c43e9b",
   "metadata": {},
   "source": [
    "In some cases, functions can also\n",
    "communicate back to the calling program by making changes to the function\n",
    "parameters. Understanding when and how this is possible requires the mastery\n",
    "of some small details about how assignment works in Python and the effect\n",
    "this has on the relationship between the actual and formal parameters used in a\n",
    "function call."
   ]
  },
  {
   "cell_type": "code",
   "execution_count": 33,
   "id": "29a8113e-6bda-41ee-b0ad-9fa7f5b84410",
   "metadata": {},
   "outputs": [],
   "source": [
    "def addinterest(balance, rate):\n",
    "    # Calculate the new balance after adding interest\n",
    "    newBalance = balance * (1 + rate)\n",
    "    # Update the balance variable with the new balance\n",
    "    balance = newBalance  # Update the balance variable"
   ]
  },
  {
   "cell_type": "code",
   "execution_count": 34,
   "id": "e737c8b2-b49b-4d89-8cd9-dc92630843fd",
   "metadata": {},
   "outputs": [],
   "source": [
    "def test():\n",
    "    amount = 1000  # Initial amount\n",
    "    rate = 0.05  # Interest rate\n",
    "    addinterest(amount, rate)  # Update the amount with interest\n",
    "    print(amount)  # Print the updated amount"
   ]
  },
  {
   "cell_type": "code",
   "execution_count": 35,
   "id": "869f2b99-4ab5-4ff3-b70f-cb95a055b5cb",
   "metadata": {},
   "outputs": [
    {
     "name": "stdout",
     "output_type": "stream",
     "text": [
      "1000\n"
     ]
    }
   ],
   "source": [
    "test()"
   ]
  },
  {
   "cell_type": "markdown",
   "id": "617e1103-34f6-4573-8f8f-2a263ae2f8fa",
   "metadata": {},
   "source": [
    "In the test() function, you're passing two numbers to the addinterest() function. But, the addinterest() function is designed to update a variable called balance, not the variables you passed to it (amount and rate).\r\n",
    "\r\n",
    "So, when you print amount after calling addinterest(amount, rate), amount remains unchanged because addinterest() onlchangeses a variable called balance inside its own scope. To fix this, you shoulchangefy addinterest() to return the updated balance and then assign it back to amount in the test() function.call."
   ]
  },
  {
   "cell_type": "code",
   "execution_count": null,
   "id": "a3a3089e-2f26-480c-8ddc-972c17ed2bbf",
   "metadata": {},
   "outputs": [],
   "source": []
  }
 ],
 "metadata": {
  "kernelspec": {
   "display_name": "Python 3 (ipykernel)",
   "language": "python",
   "name": "python3"
  },
  "language_info": {
   "codemirror_mode": {
    "name": "ipython",
    "version": 3
   },
   "file_extension": ".py",
   "mimetype": "text/x-python",
   "name": "python",
   "nbconvert_exporter": "python",
   "pygments_lexer": "ipython3",
   "version": "3.10.13"
  }
 },
 "nbformat": 4,
 "nbformat_minor": 5
}
