{
 "cells": [
  {
   "cell_type": "code",
   "execution_count": null,
   "id": "d1fd1893-67dc-4862-aa09-c3fe9935f992",
   "metadata": {},
   "outputs": [],
   "source": [
    "import pandas as pd\n",
    "import numpy as np\n",
    "import seaborn as sns\n",
    "import matplotlib.pyplot as plt"
   ]
  },
  {
   "cell_type": "code",
   "execution_count": null,
   "id": "27b4605d-89c1-43bb-8cca-c8603aa10e7b",
   "metadata": {},
   "outputs": [],
   "source": [
    "# This line reads the data from an Excel file called \"money_and_happiness.xlsx\"\n",
    "df = pd.read_excel(\"money_and_happiness.xlsx\")"
   ]
  },
  {
   "cell_type": "code",
   "execution_count": null,
   "id": "18c39f0e-88a7-48e0-9482-ac3c122ed236",
   "metadata": {},
   "outputs": [],
   "source": [
    "df"
   ]
  },
  {
   "cell_type": "markdown",
   "id": "07206e11-9d2e-4c43-97c4-8d7333951512",
   "metadata": {},
   "source": [
    "### Data Preparation"
   ]
  },
  {
   "cell_type": "code",
   "execution_count": null,
   "id": "030082a8-7fe9-457d-aa44-f1b590955f0d",
   "metadata": {},
   "outputs": [],
   "source": [
    "df.columns # Shows the column names in the DataFrame 'df'"
   ]
  },
  {
   "cell_type": "code",
   "execution_count": null,
   "id": "0be680e0-99a2-4b9d-90e4-b38fa58b026a",
   "metadata": {},
   "outputs": [],
   "source": [
    "df.info() # shows a summary of the DataFrame 'df'"
   ]
  },
  {
   "cell_type": "code",
   "execution_count": null,
   "id": "1158c928-e796-4446-b875-dcb050fac93c",
   "metadata": {},
   "outputs": [],
   "source": [
    "df.describe() # Gives a simple summary of the statistics in the DataFrame 'df'"
   ]
  },
  {
   "cell_type": "code",
   "execution_count": null,
   "id": "24145e4f-da03-4e06-aaaf-ffc9a113741c",
   "metadata": {},
   "outputs": [],
   "source": [
    "df['Income of 0-5500 dollars would increase my happiness.'] = df['Income of 0-5500 dollars would increase my happiness.'].replace({'Happy is not money but maybe 29.000':29000,'I would be comfortable with R60 000':60000,'75,000.00 Turkish Lira':75000,\"100,000tl in an economical way.\":100000, \"None...but I would be satisfied with any amount that fits my needs.\":0,'100K':100000,'40.000-50.000':50000,'10K':10000,'25000+':25000,'K50,000':50000,\"100,000tl in an economical way. \":100000,\"K45000\":45000,\"100\":100000,\"100 000\": 100000,\"50 000\" : 50000}) # Replaces various income answers with numbers in the DataFrame column "
   ]
  },
  {
   "cell_type": "code",
   "execution_count": null,
   "id": "d43bb4c4-8407-4185-ac88-b19326120cf9",
   "metadata": {},
   "outputs": [],
   "source": [
    "df['Income of 0-5500 dollars would increase my happiness.']"
   ]
  },
  {
   "cell_type": "code",
   "execution_count": null,
   "id": "dc011357-44ab-4006-ab06-8b364ee69999",
   "metadata": {},
   "outputs": [],
   "source": [
    "df['Income of 0-5500 dollars would increase my happiness.'].fillna(0) # Fills any missing values in the income column with 0"
   ]
  },
  {
   "cell_type": "code",
   "execution_count": null,
   "id": "5f0c9305-5cd5-4c66-9ac8-fed09dae41e5",
   "metadata": {},
   "outputs": [],
   "source": [
    "df.describe() # Gives a simple summary of the statistics in the DataFrame 'df'"
   ]
  },
  {
   "cell_type": "code",
   "execution_count": null,
   "id": "e7774f46-aa5e-493d-af32-10a5c27a456b",
   "metadata": {},
   "outputs": [],
   "source": [
    "df = df.drop('Unnamed: 9',axis=1) # Removes the column named 'Unnamed: 9' from the DataFrame 'df'"
   ]
  },
  {
   "cell_type": "code",
   "execution_count": null,
   "id": "7d62671a-0bd3-49bd-bb84-e7484340fd57",
   "metadata": {},
   "outputs": [],
   "source": [
    "df = df.drop('Timestamp',axis=1) # Removes the column named 'Timestamp' from the DataFrame 'df'"
   ]
  },
  {
   "cell_type": "code",
   "execution_count": null,
   "id": "a6a8815e-5c8c-4652-a36a-d95038bd4acb",
   "metadata": {},
   "outputs": [],
   "source": [
    "df"
   ]
  },
  {
   "cell_type": "code",
   "execution_count": null,
   "id": "a2a42ca7-c792-4d0e-bfe8-9cfe32fa5b1a",
   "metadata": {},
   "outputs": [],
   "source": [
    "df[\"What is the minimum wage of your occupation?\"] = df[\"What is the minimum wage of your occupation?\"].replace({\"I dont know \":0,\"#600\":600,\"25000 TL\":25000,\"17,000+\":17000,\"10000\": 10000,\"75K\":75000,\"R12 500\":12500,\"K5000\":5000,\"K3000\":3000,\"25000-40000\":30000,\"25000-40000\":30000,\"25000-40000\":30000,\"25000-40000\":30000,\"17,002.12 Turkish Lira\":17003,\"50K EUR yearly\":4000,\"500 USD (In Turkey)\":16000,\"ZMW7000\":7000,\"30000TL\":30000,\"K10,000\":10000,\"10 000\":10000})# Replaces various income answers with numbers in the DataFrame column "
   ]
  },
  {
   "cell_type": "code",
   "execution_count": null,
   "id": "5a453a49-1f3e-4570-ab78-7c2f5f903b9e",
   "metadata": {},
   "outputs": [],
   "source": [
    "df[\"What is the minimum wage of your occupation?\"]"
   ]
  },
  {
   "cell_type": "code",
   "execution_count": null,
   "id": "46082596-207c-4f45-aa79-e86a1214f42e",
   "metadata": {},
   "outputs": [],
   "source": [
    "df.describe() # Gives a simple summary of the statistics in the DataFrame 'df'"
   ]
  },
  {
   "cell_type": "code",
   "execution_count": null,
   "id": "46ae4760-cd99-4024-b2f8-5b6d92efa5dc",
   "metadata": {},
   "outputs": [],
   "source": [
    "df"
   ]
  },
  {
   "cell_type": "code",
   "execution_count": null,
   "id": "98fc52dd-ec86-4cef-9ef8-e9545a0816f9",
   "metadata": {},
   "outputs": [],
   "source": [
    "df[\"In your opinion, is it better to be rich and unhappy or poor and happy?\"]"
   ]
  },
  {
   "cell_type": "code",
   "execution_count": null,
   "id": "317a9160-2a04-4047-af63-074ac7c76432",
   "metadata": {},
   "outputs": [],
   "source": [
    "df[\"In your opinion, is it better to be rich and unhappy or poor and happy?\"] = df[\"In your opinion, is it better to be rich and unhappy or poor and happy?\"].replace({\"I prefer to be rich:)\":\"I prefer to be rich\",\"Neither. (I'd rather be fine and content)\": \"Neither. I'd rather be fine and content\"})"
   ]
  },
  {
   "cell_type": "code",
   "execution_count": null,
   "id": "792686e4-bc7e-4624-b154-df00a3fcad01",
   "metadata": {},
   "outputs": [],
   "source": [
    "# Loop through each answer in the column along with its position (index).\n",
    "for num, text in enumerate(df[\"In your opinion, is it better to be rich and unhappy or poor and happy?\"]):\n",
    "    # Check if the answer is longer than 20 characters.\n",
    "    if len(text) > 20:\n",
    "        # Print the index and the long answer.\n",
    "        print(num,text)"
   ]
  },
  {
   "cell_type": "code",
   "execution_count": null,
   "id": "dfa42355-b8d8-4fc1-82b2-1dcf34bcbe6b",
   "metadata": {},
   "outputs": [],
   "source": [
    "df    "
   ]
  },
  {
   "cell_type": "code",
   "execution_count": null,
   "id": "cf2459dc-0af5-4e32-8113-d57d53742afb",
   "metadata": {},
   "outputs": [],
   "source": [
    "df[\"Why?\"]"
   ]
  },
  {
   "cell_type": "code",
   "execution_count": null,
   "id": "6dbe5d26-7c50-4c59-9109-c95ee862aafc",
   "metadata": {},
   "outputs": [],
   "source": [
    "# Loop through each answer in the column along with its position (index).\n",
    "for num , text in enumerate(df[\"Why?\"]):\n",
    "      # Check if the answer is longer or equal to 55 characters.\n",
    "    if len(text) >= 55:\n",
    "        # Print the index and the long answer.\n",
    "        print(num,text)"
   ]
  },
  {
   "cell_type": "code",
   "execution_count": null,
   "id": "f9c659a0-94c8-41be-b67b-5c02b9292207",
   "metadata": {},
   "outputs": [],
   "source": [
    "df = df.rename(columns={\"Please Enter Your Gender\":\"Gender\"}) #renames the column to Gender"
   ]
  },
  {
   "cell_type": "code",
   "execution_count": null,
   "id": "14313fca-8674-4400-8282-42bc8318cf4a",
   "metadata": {},
   "outputs": [],
   "source": [
    "df"
   ]
  },
  {
   "cell_type": "code",
   "execution_count": null,
   "id": "0a62fab7-5e53-43c1-bacc-e9cd83fc983a",
   "metadata": {},
   "outputs": [],
   "source": [
    "df[\"Gender\"] = df[\"Gender\"].replace({\"Femenine\":\"Female\"}) # changes Femenine to Female"
   ]
  },
  {
   "cell_type": "code",
   "execution_count": null,
   "id": "de1531fe-5fbc-402f-861c-2dd4f47a9160",
   "metadata": {},
   "outputs": [],
   "source": [
    "#df.query(\"Nationality == 'Zambian'\")"
   ]
  },
  {
   "cell_type": "code",
   "execution_count": null,
   "id": "ab90a3ec-aaf7-4f8c-bb3a-480fb850d5ed",
   "metadata": {},
   "outputs": [],
   "source": [
    "df.info()"
   ]
  },
  {
   "cell_type": "code",
   "execution_count": null,
   "id": "d3a9bc05-1afb-4163-acf6-b6fb4753477a",
   "metadata": {},
   "outputs": [],
   "source": []
  }
 ],
 "metadata": {
  "kernelspec": {
   "display_name": "Python 3 (ipykernel)",
   "language": "python",
   "name": "python3"
  },
  "language_info": {
   "codemirror_mode": {
    "name": "ipython",
    "version": 3
   },
   "file_extension": ".py",
   "mimetype": "text/x-python",
   "name": "python",
   "nbconvert_exporter": "python",
   "pygments_lexer": "ipython3",
   "version": "3.10.13"
  }
 },
 "nbformat": 4,
 "nbformat_minor": 5
}
