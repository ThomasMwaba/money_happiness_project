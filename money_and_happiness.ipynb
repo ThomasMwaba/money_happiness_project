{
 "cells": [
  {
   "cell_type": "code",
   "execution_count": 1,
   "id": "d1fd1893-67dc-4862-aa09-c3fe9935f992",
   "metadata": {},
   "outputs": [],
   "source": [
    "import pandas as pd\n",
    "import numpy as np\n",
    "import seaborn as sns\n",
    "import matplotlib.pyplot as plt"
   ]
  },
  {
   "cell_type": "code",
   "execution_count": 7,
   "id": "27b4605d-89c1-43bb-8cca-c8603aa10e7b",
   "metadata": {},
   "outputs": [],
   "source": [
    "df = pd.read_excel(\"money_and_happiness.xlsx\")"
   ]
  },
  {
   "cell_type": "code",
   "execution_count": null,
   "id": "18c39f0e-88a7-48e0-9482-ac3c122ed236",
   "metadata": {},
   "outputs": [],
   "source": []
  }
 ],
 "metadata": {
  "kernelspec": {
   "display_name": "Python 3 (ipykernel)",
   "language": "python",
   "name": "python3"
  },
  "language_info": {
   "codemirror_mode": {
    "name": "ipython",
    "version": 3
   },
   "file_extension": ".py",
   "mimetype": "text/x-python",
   "name": "python",
   "nbconvert_exporter": "python",
   "pygments_lexer": "ipython3",
   "version": "3.10.13"
  }
 },
 "nbformat": 4,
 "nbformat_minor": 5
}
